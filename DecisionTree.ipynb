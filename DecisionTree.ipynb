{
 "cells": [
  {
   "cell_type": "code",
   "execution_count": 4,
   "metadata": {
    "collapsed": true,
    "pycharm": {
     "name": "#%%\n"
    }
   },
   "outputs": [
    {
     "name": "stdout",
     "output_type": "stream",
     "text": [
      "    age  sex  cp  trtbps  chol  fbs  restecg  thalachh  exng  oldpeak  slp  \\\n",
      "0    63    1   3     145   233    1        0       150     0      2.3    0   \n",
      "1    37    1   2     130   250    0        1       187     0      3.5    0   \n",
      "2    41    0   1     130   204    0        0       172     0      1.4    2   \n",
      "3    56    1   1     120   236    0        1       178     0      0.8    2   \n",
      "4    57    0   0     120   354    0        1       163     1      0.6    2   \n",
      "5    57    1   0     140   192    0        1       148     0      0.4    1   \n",
      "6    56    0   1     140   294    0        0       153     0      1.3    1   \n",
      "7    44    1   1     120   263    0        1       173     0      0.0    2   \n",
      "8    52    1   2     172   199    1        1       162     0      0.5    2   \n",
      "9    57    1   2     150   168    0        1       174     0      1.6    2   \n",
      "10   54    1   0     140   239    0        1       160     0      1.2    2   \n",
      "11   48    0   2     130   275    0        1       139     0      0.2    2   \n",
      "12   49    1   1     130   266    0        1       171     0      0.6    2   \n",
      "13   64    1   3     110   211    0        0       144     1      1.8    1   \n",
      "14   58    0   3     150   283    1        0       162     0      1.0    2   \n",
      "\n",
      "    caa  thall  output  \n",
      "0     0      1       1  \n",
      "1     0      2       1  \n",
      "2     0      2       1  \n",
      "3     0      2       1  \n",
      "4     0      2       1  \n",
      "5     0      1       1  \n",
      "6     0      2       1  \n",
      "7     0      3       1  \n",
      "8     0      3       1  \n",
      "9     0      2       1  \n",
      "10    0      2       1  \n",
      "11    0      2       1  \n",
      "12    0      2       1  \n",
      "13    0      2       1  \n",
      "14    0      2       1  \n"
     ]
    }
   ],
   "source": [
    "import matplotlib.pyplot as plt\n",
    "from dtreeviz.trees import *\n",
    "from sklearn.metrics import classification_report, accuracy_score\n",
    "from sklearn.model_selection import train_test_split\n",
    "from matplotlib import pyplot\n",
    "from sklearn.tree import DecisionTreeClassifier\n",
    "\n",
    "dataset_url = 'C:/Users/asus/Downloads/heart.csv'\n",
    "data = pd.read_csv(dataset_url)\n",
    "print(data.head(15))\n",
    "# pivot_ui(data)"
   ]
  },
  {
   "cell_type": "code",
   "execution_count": 11,
   "outputs": [
    {
     "name": "stdout",
     "output_type": "stream",
     "text": [
      "[0 1 0 0 0 0 0 0 0 1 1 0 1 0 1 1 1 0 1 0 1 0 1 1 1 1 0 1 1 1 1 1 1 0 0 1 1\n",
      " 0 0 0 1 0 0 0 0 1 0 0 0 0 1 1 1 1 1 1 0 0 0 0 0 1 1 0 0 1 0 0 0 0 1 1 0 0\n",
      " 0 0 1 0 0 0 1 1 0 1 1 1 0 1 1 0 1]\n"
     ]
    }
   ],
   "source": [
    "feature_names = ['age', 'sex', 'cp', 'trtbps', 'chol',\n",
    "                 'fbs', 'restecg', 'thalachh', 'exng',\n",
    "                 'oldpeak', 'slp', 'caa', 'thall']\n",
    "\n",
    "target_variable = ['output']\n",
    "\n",
    "X = data[feature_names]  # Features\n",
    "y = data[target_variable]  # Target variable\n",
    "\n",
    "X_train, X_test, y_train, y_test = train_test_split(X, y, test_size=0.3, random_state=1)\n",
    "\n",
    "clf = DecisionTreeClassifier()\n",
    "clf = clf.fit(X_train, y_train)\n",
    "\n",
    "y_pred = clf.predict(X_test)\n",
    "print(y_pred)\n",
    "# plt.plot(X_train,y_train)"
   ],
   "metadata": {
    "collapsed": false,
    "pycharm": {
     "name": "#%%\n"
    }
   }
  },
  {
   "cell_type": "code",
   "execution_count": 10,
   "outputs": [
    {
     "name": "stdout",
     "output_type": "stream",
     "text": [
      "Classification Report:\n",
      "              precision    recall  f1-score   support\n",
      "\n",
      "           0       0.66      0.76      0.70        41\n",
      "           1       0.77      0.68      0.72        50\n",
      "\n",
      "    accuracy                           0.71        91\n",
      "   macro avg       0.72      0.72      0.71        91\n",
      "weighted avg       0.72      0.71      0.71        91\n",
      "\n",
      "Accuracy: 0.7142857142857143\n"
     ]
    }
   ],
   "source": [
    "result1 = classification_report(y_test, y_pred)\n",
    "print(\"Classification Report:\", )\n",
    "print(result1)\n",
    "result2 = accuracy_score(y_test, y_pred)\n",
    "print(\"Accuracy:\", result2)"
   ],
   "metadata": {
    "collapsed": false,
    "pycharm": {
     "name": "#%%\n"
    }
   }
  },
  {
   "cell_type": "code",
   "execution_count": null,
   "outputs": [],
   "source": [],
   "metadata": {
    "collapsed": false,
    "pycharm": {
     "name": "#%%\n"
    }
   }
  }
 ],
 "metadata": {
  "kernelspec": {
   "display_name": "Python 3",
   "language": "python",
   "name": "python3"
  },
  "language_info": {
   "codemirror_mode": {
    "name": "ipython",
    "version": 2
   },
   "file_extension": ".py",
   "mimetype": "text/x-python",
   "name": "python",
   "nbconvert_exporter": "python",
   "pygments_lexer": "ipython2",
   "version": "2.7.6"
  }
 },
 "nbformat": 4,
 "nbformat_minor": 0
}