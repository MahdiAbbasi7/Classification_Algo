{
 "cells": [
  {
   "cell_type": "code",
   "execution_count": 25,
   "outputs": [
    {
     "name": "stdout",
     "output_type": "stream",
     "text": [
      "    age  sex  cp  trtbps  chol  fbs  restecg  thalachh  exng  oldpeak  slp  \\\n",
      "0    63    1   3     145   233    1        0       150     0      2.3    0   \n",
      "1    37    1   2     130   250    0        1       187     0      3.5    0   \n",
      "2    41    0   1     130   204    0        0       172     0      1.4    2   \n",
      "3    56    1   1     120   236    0        1       178     0      0.8    2   \n",
      "4    57    0   0     120   354    0        1       163     1      0.6    2   \n",
      "5    57    1   0     140   192    0        1       148     0      0.4    1   \n",
      "6    56    0   1     140   294    0        0       153     0      1.3    1   \n",
      "7    44    1   1     120   263    0        1       173     0      0.0    2   \n",
      "8    52    1   2     172   199    1        1       162     0      0.5    2   \n",
      "9    57    1   2     150   168    0        1       174     0      1.6    2   \n",
      "10   54    1   0     140   239    0        1       160     0      1.2    2   \n",
      "11   48    0   2     130   275    0        1       139     0      0.2    2   \n",
      "12   49    1   1     130   266    0        1       171     0      0.6    2   \n",
      "13   64    1   3     110   211    0        0       144     1      1.8    1   \n",
      "14   58    0   3     150   283    1        0       162     0      1.0    2   \n",
      "\n",
      "    caa  thall  output  \n",
      "0     0      1       1  \n",
      "1     0      2       1  \n",
      "2     0      2       1  \n",
      "3     0      2       1  \n",
      "4     0      2       1  \n",
      "5     0      1       1  \n",
      "6     0      2       1  \n",
      "7     0      3       1  \n",
      "8     0      3       1  \n",
      "9     0      2       1  \n",
      "10    0      2       1  \n",
      "11    0      2       1  \n",
      "12    0      2       1  \n",
      "13    0      2       1  \n",
      "14    0      2       1  \n"
     ]
    }
   ],
   "source": [
    "import pandas as pd\n",
    "import numpy as np\n",
    "from sklearn.svm import SVC\n",
    "from sklearn.model_selection import train_test_split\n",
    "import seaborn as sns\n",
    "sns.set_theme()\n",
    "data_set_url = 'C:/Users/asus/Downloads/heart.csv'\n",
    "heart = pd.read_csv(data_set_url)\n",
    "print(heart.head(15))"
   ],
   "metadata": {
    "collapsed": false,
    "pycharm": {
     "name": "#%%\n"
    }
   }
  },
  {
   "cell_type": "code",
   "execution_count": 27,
   "outputs": [],
   "source": [
    "feature_names = ['age', 'sex', 'cp', 'trtbps', 'chol',\n",
    "                 'fbs', 'restecg', 'thalachh', 'exng',\n",
    "                 'oldpeak', 'slp', 'caa', 'thall']\n",
    "\n",
    "target_variable = ['output']\n",
    "\n",
    "X = heart[feature_names]  #  Features\n",
    "y = heart[target_variable]  # Target variable\n"
   ],
   "metadata": {
    "collapsed": false,
    "pycharm": {
     "name": "#%%\n"
    }
   }
  },
  {
   "cell_type": "code",
   "execution_count": 28,
   "outputs": [
    {
     "name": "stdout",
     "output_type": "stream",
     "text": [
      "test accuracy : 0.5573770491803278\n"
     ]
    },
    {
     "name": "stderr",
     "output_type": "stream",
     "text": [
      "C:\\Users\\asus\\OneDrive\\Desktop\\Uni\\AI\\Al_algo\\Hamrah_aval\\Scripts\\pyhton.exe\\lib\\site-packages\\sklearn\\utils\\validation.py:1143: DataConversionWarning: A column-vector y was passed when a 1d array was expected. Please change the shape of y to (n_samples, ), for example using ravel().\n"
     ]
    }
   ],
   "source": [
    "X_train, X_test, y_train, y_test = train_test_split(x,y,test_size=0.20,random_state=1)\n",
    "svm=SVC(random_state=1)\n",
    "svm.fit(X_train,y_train)\n",
    "print('test accuracy :', svm.score(X_test,y_test))"
   ],
   "metadata": {
    "collapsed": false,
    "pycharm": {
     "name": "#%%\n"
    }
   }
  }
 ],
 "metadata": {
  "kernelspec": {
   "display_name": "Python 3",
   "language": "python",
   "name": "python3"
  },
  "language_info": {
   "codemirror_mode": {
    "name": "ipython",
    "version": 2
   },
   "file_extension": ".py",
   "mimetype": "text/x-python",
   "name": "python",
   "nbconvert_exporter": "python",
   "pygments_lexer": "ipython2",
   "version": "2.7.6"
  }
 },
 "nbformat": 4,
 "nbformat_minor": 0
}